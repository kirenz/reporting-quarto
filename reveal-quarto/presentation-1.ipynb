{
  "cells": [
    {
      "cell_type": "raw",
      "metadata": {},
      "source": [
        "---\n",
        "title: \"Reveal Presentation\"\n",
        "subtitle: \"Tutorial\"\n",
        "author: \"Name\"\n",
        "execute: \n",
        "  eval: true\n",
        "lang: de\n",
        "highlight-style: github\n",
        "format: \n",
        "    revealjs:\n",
        "        toc: true\n",
        "        toc-depth: 1\n",
        "        embed-resources: false\n",
        "        code-copy: true\n",
        "        code-line-numbers: true\n",
        "        scrollable: true\n",
        "        slide-number: c\n",
        "        incremental: true\n",
        "        transition: slide\n",
        "        theme: [dark, custom.scss]\n",
        "resources:\n",
        "  - demo.pdf\n",
        "---"
      ],
      "id": "3e673f6c"
    },
    {
      "cell_type": "code",
      "metadata": {},
      "source": [
        "import altair as alt\n",
        "from vega_datasets import data"
      ],
      "id": "1e339af2",
      "execution_count": null,
      "outputs": []
    },
    {
      "cell_type": "markdown",
      "metadata": {},
      "source": [
        "# Teil 1\n",
        "\n",
        "\n",
        "\n",
        "## Test\n",
        "\n",
        "## Test2\n"
      ],
      "id": "e08837aa"
    },
    {
      "cell_type": "code",
      "metadata": {},
      "source": [
        "source = data.seattle_weather()\n",
        "brush = alt.selection_interval(encodings=['x'])\n",
        "\n",
        "bars = alt.Chart().mark_bar().encode(\n",
        "    x='month(date):O',\n",
        "    y='mean(precipitation):Q',\n",
        "    opacity=alt.condition(brush, alt.OpacityValue(1), alt.OpacityValue(0.7)),\n",
        ").add_params(\n",
        "    brush\n",
        ")\n",
        "\n",
        "line = alt.Chart().mark_rule(color='firebrick').encode(\n",
        "    y='mean(precipitation):Q',\n",
        "    size=alt.SizeValue(3)\n",
        ").transform_filter(\n",
        "    brush\n",
        ")\n",
        "\n",
        "alt.layer(bars, line, data=source)"
      ],
      "id": "7a464965",
      "execution_count": null,
      "outputs": []
    },
    {
      "cell_type": "markdown",
      "metadata": {},
      "source": [
        "# Teil 2\n",
        "\n",
        "## Text\n",
        "\n",
        "## Text"
      ],
      "id": "b848bcde"
    }
  ],
  "metadata": {
    "kernelspec": {
      "name": "python3",
      "language": "python",
      "display_name": "Python 3 (ipykernel)"
    }
  },
  "nbformat": 4,
  "nbformat_minor": 5
}