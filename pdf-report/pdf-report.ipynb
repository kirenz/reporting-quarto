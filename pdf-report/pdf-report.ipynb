{
 "cells": [
  {
   "cell_type": "markdown",
   "metadata": {},
   "source": [
    "---\n",
    "title: \"My document\"\n",
    "format:\n",
    "  pdf:\n",
    "    toc: true\n",
    "    number-sections: true\n",
    "    colorlinks: true\n",
    "---"
   ]
  },
  {
   "cell_type": "markdown",
   "metadata": {},
   "source": [
    "# Important note\n",
    "\n",
    "In order to create PDFs you will need to install a recent distribution of TeX. The Quarto-team recommends the use of TinyTeX (which is based on TexLive), which you can install with the following command in your terminal:\n",
    "\n",
    "```bash\n",
    "quarto install tool tinytex\n",
    "```\n",
    "\n",
    "To learn more about the PDF-options: <https://quarto.org/docs/output-formats/pdf-basics.html>\n"
   ]
  },
  {
   "cell_type": "markdown",
   "metadata": {},
   "source": []
  }
 ],
 "metadata": {
  "language_info": {
   "name": "python"
  },
  "orig_nbformat": 4
 },
 "nbformat": 4,
 "nbformat_minor": 2
}
