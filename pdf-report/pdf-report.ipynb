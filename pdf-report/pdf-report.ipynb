{
 "cells": [
  {
   "cell_type": "markdown",
   "metadata": {},
   "source": [
    "---\n",
    "title: \"My document\"\n",
    "format:\n",
    "  pdf:\n",
    "    toc: true\n",
    "    number-sections: true\n",
    "    colorlinks: true\n",
    "---"
   ]
  },
  {
   "cell_type": "markdown",
   "metadata": {},
   "source": [
    "# Important note\n",
    "\n",
    "In order to create PDFs you will need to install a recent distribution of TeX. The Quarto-team recommends the use of TinyTeX (which is based on TexLive), which you can install with the following command in your terminal:\n",
    "\n",
    "```bash\n",
    "quarto install tool tinytex\n",
    "```\n",
    "\n",
    "To learn more about the PDF-options: <https://quarto.org/docs/output-formats/pdf-basics.html>\n"
   ]
  },
  {
   "cell_type": "markdown",
   "metadata": {},
   "source": []
  }
 ],
 "metadata": {
  "kernelspec": {
   "display_name": "Python 3.9.13 ('mr')",
   "language": "python",
   "name": "python3"
  },
  "language_info": {
   "name": "python",
   "version": "3.9.13"
  },
  "orig_nbformat": 4,
  "vscode": {
   "interpreter": {
    "hash": "f67a6e0a9398ad1027ae219b06127e0fb4d07effe0ce32feaf43ec972fa20a12"
   }
  }
 },
 "nbformat": 4,
 "nbformat_minor": 2
}
