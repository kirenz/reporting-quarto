{
  "cells": [
    {
      "cell_type": "raw",
      "metadata": {},
      "source": [
        "---\n",
        "title: \"Presentation\"\n",
        "format:\n",
        "  pptx:\n",
        "    reference-doc: template.pptx\n",
        "    incremental: true \n",
        "---"
      ]
    },
    {
      "cell_type": "markdown",
      "metadata": {},
      "source": [
        "# In the morning\n",
        "\n",
        "## Getting up\n",
        "\n",
        "- Turn off alarm\n",
        "- Get out of bed\n",
        "\n",
        "## Breakfast\n",
        "\n",
        "- Eat eggs\n",
        "- Drink coffee\n",
        "\n",
        "# In the evening\n",
        "\n",
        "## Dinner\n",
        "\n",
        "- Eat spaghetti\n",
        "- Drink wine\n",
        "\n",
        "## Going to sleep\n",
        "\n",
        "- Get in bed\n",
        "\n",
        "::: {.incremental}\n",
        "\n",
        "- Eat spaghetti\n",
        "- Drink wine\n",
        "\n",
        ":::\n",
        "\n",
        "# New content\n",
        "\n",
        ":::: {.columns}\n",
        "\n",
        "::: {.column width=\"40%\"}\n",
        "contents...\n",
        ":::\n",
        "\n",
        "::: {.column width=\"60%\"}\n",
        "contents...\n",
        ":::\n",
        "\n",
        "::::\n"
      ]
    }
  ],
  "metadata": {
    "kernelspec": {
      "display_name": "Python 3.9.13 ('dst')",
      "language": "python",
      "name": "python3"
    },
    "language_info": {
      "codemirror_mode": {
        "name": "ipython",
        "version": 3
      },
      "file_extension": ".py",
      "mimetype": "text/x-python",
      "name": "python",
      "nbconvert_exporter": "python",
      "pygments_lexer": "ipython3",
      "version": "3.9.13"
    },
    "vscode": {
      "interpreter": {
        "hash": "57137d00906dcfc610b0009cd9be1d97c3b9b0b8cb7228e2ff7c7001d05affbc"
      }
    }
  },
  "nbformat": 4,
  "nbformat_minor": 4
}
