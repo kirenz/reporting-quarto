{
  "cells": [
    {
      "cell_type": "raw",
      "id": "a95885f5",
      "metadata": {},
      "source": [
        "---\n",
        "title: \"Quarto Presentations\"\n",
        "subtitle: \"Create beautiful interactive slide decks with Reveal.js\"\n",
        "format:\n",
        "  revealjs: \n",
        "    slide-number: true\n",
        "    chalkboard: \n",
        "      buttons: false\n",
        "    preview-links: auto\n",
        "    logo: images/quarto.png\n",
        "    css: styles.css\n",
        "    footer: <https://quarto.org>\n",
        "resources:\n",
        "  - demo.pdf\n",
        "  \n",
        "---"
      ]
    },
    {
      "cell_type": "markdown",
      "id": "59f45288",
      "metadata": {},
      "source": [
        "## Hello, There\n",
        "\n",
        "The following presentation is based on [this demo](https://github.com/quarto-dev/quarto-web/tree/main/docs/presentations/revealjs/demo) provided by Quarto.\n",
        "\n",
        "Note that you need to install `ipyleaflet`(conda install ipyleaflet)\n",
        "\n",
        "\n",
        "This presentation will show you examples of what you can do with Quarto and [Reveal.js](https://revealjs.com), including:\n",
        "\n",
        "-   Presenting code and LaTeX equations\n",
        "-   Including computations in slide output\n",
        "-   Image, video, and iframe backgrounds\n",
        "-   Fancy transitions and animations\n",
        "-   Printing to PDF\n",
        "\n",
        "...and much more\n"
      ]
    },
    {
      "cell_type": "markdown",
      "id": "baee5a73",
      "metadata": {},
      "source": [
        "## Pretty Code {auto-animate=\"true\"}\n",
        "\n",
        "-   Over 20 syntax highlighting themes available\n",
        "-   Default theme optimized for accessibility\n",
        "\n",
        "``` python\n",
        "import pandas as pd\n",
        "import altair as alt\n",
        "\n",
        "# sorted bar chart\n",
        "alt.Chart(source).mark_bar().encode(\n",
        "    x=alt.X('homeownership', sort='-y'), \n",
        "    y=alt.Y('count(homeownership)')\n",
        ")\n",
        "```\n",
        "\n",
        "::: footer\n",
        "Learn more: [Syntax Highlighting](https://quarto.org/docs/output-formats/html-code.html#highlighting)\n",
        ":::\n"
      ]
    },
    {
      "cell_type": "markdown",
      "id": "146a8b49",
      "metadata": {},
      "source": [
        "\n",
        "## Code Animations {auto-animate=\"true\"}\n",
        "\n",
        "-   Over 20 syntax highlighting themes available\n",
        "-   Default theme optimized for accessibility\n",
        "\n",
        "``` python\n",
        "import pandas as pd\n",
        "import altair as alt\n",
        "\n",
        "alt.Chart(source).mark_bar().encode(\n",
        "    x=alt.X('homeownership', sort='-y'), \n",
        "    y=alt.Y('count(homeownership)')\n",
        ")\n",
        "\n",
        "```\n",
        "\n",
        "::: footer\n",
        "Learn more: [Code Animations](https://quarto.org/docs/presentations/revealjs/advanced.html#code-animations)\n",
        ":::\n"
      ]
    },
    {
      "cell_type": "markdown",
      "id": "51a2d5a9",
      "metadata": {},
      "source": [
        "\n",
        "## Line Highlighting\n",
        "\n",
        "-   Highlight specific lines for emphasis\n",
        "-   Incrementally highlight additional lines\n",
        "\n",
        "``` {.python code-line-numbers=\"4-5|7|10\"}\n",
        "import pandas as pd\n",
        "import altair as alt\n",
        "\n",
        "ROOT = \"https://raw.githubusercontent.com/kirenz/datasets/master/\"\n",
        "DATA = \"loans50.csv\"\n",
        "\n",
        "df = pd.read_csv(ROOT + DATA)\n",
        "\n",
        "# sorted bar chart\n",
        "alt.Chart(df).mark_bar().encode(\n",
        "    x=alt.X('homeownership', sort='-y'), \n",
        "    y=alt.Y('count(homeownership)')\n",
        ").properties( \n",
        "    title='This is a simple bar chart',\n",
        "    width=300,\n",
        "    height=150\n",
        ")\n",
        "\n",
        "```\n",
        "\n",
        "::: footer\n",
        "Learn more: [Line Highlighting](https://quarto.org/docs/presentations/revealjs/#line-highlighting)\n",
        ":::\n"
      ]
    },
    {
      "cell_type": "markdown",
      "id": "d7192ee9",
      "metadata": {},
      "source": [
        "\n",
        "## Executable Code"
      ]
    },
    {
      "cell_type": "code",
      "execution_count": 1,
      "id": "c107e902",
      "metadata": {
        "fig-height": 4.5,
        "fig-width": 10
      },
      "outputs": [
        {
          "data": {
            "text/html": [
              "\n",
              "<div id=\"altair-viz-f9bbfeb0b93a450c8ab6f337cfc113d2\"></div>\n",
              "<script type=\"text/javascript\">\n",
              "  var VEGA_DEBUG = (typeof VEGA_DEBUG == \"undefined\") ? {} : VEGA_DEBUG;\n",
              "  (function(spec, embedOpt){\n",
              "    let outputDiv = document.currentScript.previousElementSibling;\n",
              "    if (outputDiv.id !== \"altair-viz-f9bbfeb0b93a450c8ab6f337cfc113d2\") {\n",
              "      outputDiv = document.getElementById(\"altair-viz-f9bbfeb0b93a450c8ab6f337cfc113d2\");\n",
              "    }\n",
              "    const paths = {\n",
              "      \"vega\": \"https://cdn.jsdelivr.net/npm//vega@5?noext\",\n",
              "      \"vega-lib\": \"https://cdn.jsdelivr.net/npm//vega-lib?noext\",\n",
              "      \"vega-lite\": \"https://cdn.jsdelivr.net/npm//vega-lite@4.17.0?noext\",\n",
              "      \"vega-embed\": \"https://cdn.jsdelivr.net/npm//vega-embed@6?noext\",\n",
              "    };\n",
              "\n",
              "    function maybeLoadScript(lib, version) {\n",
              "      var key = `${lib.replace(\"-\", \"\")}_version`;\n",
              "      return (VEGA_DEBUG[key] == version) ?\n",
              "        Promise.resolve(paths[lib]) :\n",
              "        new Promise(function(resolve, reject) {\n",
              "          var s = document.createElement('script');\n",
              "          document.getElementsByTagName(\"head\")[0].appendChild(s);\n",
              "          s.async = true;\n",
              "          s.onload = () => {\n",
              "            VEGA_DEBUG[key] = version;\n",
              "            return resolve(paths[lib]);\n",
              "          };\n",
              "          s.onerror = () => reject(`Error loading script: ${paths[lib]}`);\n",
              "          s.src = paths[lib];\n",
              "        });\n",
              "    }\n",
              "\n",
              "    function showError(err) {\n",
              "      outputDiv.innerHTML = `<div class=\"error\" style=\"color:red;\">${err}</div>`;\n",
              "      throw err;\n",
              "    }\n",
              "\n",
              "    function displayChart(vegaEmbed) {\n",
              "      vegaEmbed(outputDiv, spec, embedOpt)\n",
              "        .catch(err => showError(`Javascript Error: ${err.message}<br>This usually means there's a typo in your chart specification. See the javascript console for the full traceback.`));\n",
              "    }\n",
              "\n",
              "    if(typeof define === \"function\" && define.amd) {\n",
              "      requirejs.config({paths});\n",
              "      require([\"vega-embed\"], displayChart, err => showError(`Error loading script: ${err.message}`));\n",
              "    } else {\n",
              "      maybeLoadScript(\"vega\", \"5\")\n",
              "        .then(() => maybeLoadScript(\"vega-lite\", \"4.17.0\"))\n",
              "        .then(() => maybeLoadScript(\"vega-embed\", \"6\"))\n",
              "        .catch(showError)\n",
              "        .then(() => displayChart(vegaEmbed));\n",
              "    }\n",
              "  })({\"config\": {\"view\": {\"continuousWidth\": 400, \"continuousHeight\": 300}}, \"data\": {\"name\": \"data-da268e6db2ac06384179953344dc16fb\"}, \"mark\": \"bar\", \"encoding\": {\"x\": {\"field\": \"homeownership\", \"sort\": \"-y\", \"type\": \"nominal\"}, \"y\": {\"aggregate\": \"count\", \"field\": \"homeownership\", \"type\": \"nominal\"}}, \"height\": 150, \"title\": \"This is a simple bar chart\", \"width\": 300, \"$schema\": \"https://vega.github.io/schema/vega-lite/v4.17.0.json\", \"datasets\": {\"data-da268e6db2ac06384179953344dc16fb\": [{\"state\": \"NJ\", \"emp_length\": 3.0, \"term\": 60, \"homeownership\": \"rent\", \"annual_income\": 59000, \"verified_income\": \"Not Verified\", \"debt_to_income\": 0.5575254237288135, \"total_credit_limit\": 95131, \"total_credit_utilized\": 32894, \"num_cc_carrying_balance\": 8, \"loan_purpose\": \"debt_consolidation\", \"loan_amount\": 22000, \"grade\": \"B\", \"interest_rate\": 10.9, \"public_record_bankrupt\": 0, \"loan_status\": \"Current\", \"has_second_income\": false, \"total_income\": 59000}, {\"state\": \"CA\", \"emp_length\": 10.0, \"term\": 36, \"homeownership\": \"rent\", \"annual_income\": 60000, \"verified_income\": \"Not Verified\", \"debt_to_income\": 1.3056833333333333, \"total_credit_limit\": 51929, \"total_credit_utilized\": 78341, \"num_cc_carrying_balance\": 2, \"loan_purpose\": \"credit_card\", \"loan_amount\": 6000, \"grade\": \"B\", \"interest_rate\": 9.92, \"public_record_bankrupt\": 1, \"loan_status\": \"Current\", \"has_second_income\": false, \"total_income\": 60000}, {\"state\": \"SC\", \"emp_length\": null, \"term\": 36, \"homeownership\": \"mortgage\", \"annual_income\": 75000, \"verified_income\": \"Verified\", \"debt_to_income\": 1.05628, \"total_credit_limit\": 301373, \"total_credit_utilized\": 79221, \"num_cc_carrying_balance\": 14, \"loan_purpose\": \"debt_consolidation\", \"loan_amount\": 25000, \"grade\": \"E\", \"interest_rate\": 26.3, \"public_record_bankrupt\": 0, \"loan_status\": \"Current\", \"has_second_income\": false, \"total_income\": 75000}, {\"state\": \"CA\", \"emp_length\": 0.0, \"term\": 36, \"homeownership\": \"rent\", \"annual_income\": 75000, \"verified_income\": \"Not Verified\", \"debt_to_income\": 0.5743466666666667, \"total_credit_limit\": 59890, \"total_credit_utilized\": 43076, \"num_cc_carrying_balance\": 10, \"loan_purpose\": \"credit_card\", \"loan_amount\": 6000, \"grade\": \"B\", \"interest_rate\": 9.92, \"public_record_bankrupt\": 0, \"loan_status\": \"Current\", \"has_second_income\": false, \"total_income\": 75000}, {\"state\": \"OH\", \"emp_length\": 4.0, \"term\": 60, \"homeownership\": \"mortgage\", \"annual_income\": 254000, \"verified_income\": \"Not Verified\", \"debt_to_income\": 0.2381496062992125, \"total_credit_limit\": 422619, \"total_credit_utilized\": 60490, \"num_cc_carrying_balance\": 2, \"loan_purpose\": \"home_improvement\", \"loan_amount\": 25000, \"grade\": \"B\", \"interest_rate\": 9.43, \"public_record_bankrupt\": 0, \"loan_status\": \"Current\", \"has_second_income\": false, \"total_income\": 254000}, {\"state\": \"IN\", \"emp_length\": 6.0, \"term\": 36, \"homeownership\": \"mortgage\", \"annual_income\": 67000, \"verified_income\": \"Source Verified\", \"debt_to_income\": 1.077044776119403, \"total_credit_limit\": 349825, \"total_credit_utilized\": 72162, \"num_cc_carrying_balance\": 4, \"loan_purpose\": \"home_improvement\", \"loan_amount\": 6400, \"grade\": \"B\", \"interest_rate\": 9.92, \"public_record_bankrupt\": 0, \"loan_status\": \"Current\", \"has_second_income\": false, \"total_income\": 67000}, {\"state\": \"NY\", \"emp_length\": 2.0, \"term\": 36, \"homeownership\": \"rent\", \"annual_income\": 28800, \"verified_income\": \"Source Verified\", \"debt_to_income\": 0.0997222222222222, \"total_credit_limit\": 15980, \"total_credit_utilized\": 2872, \"num_cc_carrying_balance\": 1, \"loan_purpose\": \"debt_consolidation\", \"loan_amount\": 3000, \"grade\": \"D\", \"interest_rate\": 17.09, \"public_record_bankrupt\": 0, \"loan_status\": \"Current\", \"has_second_income\": false, \"total_income\": 28800}, {\"state\": \"MO\", \"emp_length\": 10.0, \"term\": 36, \"homeownership\": \"mortgage\", \"annual_income\": 80000, \"verified_income\": \"Not Verified\", \"debt_to_income\": 0.3509125, \"total_credit_limit\": 258439, \"total_credit_utilized\": 28073, \"num_cc_carrying_balance\": 3, \"loan_purpose\": \"credit_card\", \"loan_amount\": 14500, \"grade\": \"A\", \"interest_rate\": 6.08, \"public_record_bankrupt\": 0, \"loan_status\": \"Current\", \"has_second_income\": false, \"total_income\": 80000}, {\"state\": \"FL\", \"emp_length\": 6.0, \"term\": 60, \"homeownership\": \"rent\", \"annual_income\": 34000, \"verified_income\": \"Not Verified\", \"debt_to_income\": 0.6975, \"total_credit_limit\": 87705, \"total_credit_utilized\": 23715, \"num_cc_carrying_balance\": 10, \"loan_purpose\": \"credit_card\", \"loan_amount\": 10000, \"grade\": \"A\", \"interest_rate\": 7.97, \"public_record_bankrupt\": 0, \"loan_status\": \"Current\", \"has_second_income\": false, \"total_income\": 34000}, {\"state\": \"FL\", \"emp_length\": 3.0, \"term\": 60, \"homeownership\": \"mortgage\", \"annual_income\": 80000, \"verified_income\": \"Source Verified\", \"debt_to_income\": 0.1668541666666666, \"total_credit_limit\": 330394, \"total_credit_utilized\": 32036, \"num_cc_carrying_balance\": 4, \"loan_purpose\": \"debt_consolidation\", \"loan_amount\": 18500, \"grade\": \"C\", \"interest_rate\": 12.62, \"public_record_bankrupt\": 1, \"loan_status\": \"Current\", \"has_second_income\": true, \"total_income\": 192000}, {\"state\": \"MD\", \"emp_length\": 8.0, \"term\": 36, \"homeownership\": \"rent\", \"annual_income\": 73000, \"verified_income\": \"Source Verified\", \"debt_to_income\": 0.4143287671232876, \"total_credit_limit\": 36182, \"total_credit_utilized\": 30246, \"num_cc_carrying_balance\": 3, \"loan_purpose\": \"debt_consolidation\", \"loan_amount\": 17000, \"grade\": \"D\", \"interest_rate\": 17.09, \"public_record_bankrupt\": 0, \"loan_status\": \"Current\", \"has_second_income\": false, \"total_income\": 73000}, {\"state\": \"HI\", \"emp_length\": 10.0, \"term\": 36, \"homeownership\": \"mortgage\", \"annual_income\": 120000, \"verified_income\": \"Not Verified\", \"debt_to_income\": 0.7989083333333333, \"total_credit_limit\": 452712, \"total_credit_utilized\": 95869, \"num_cc_carrying_balance\": 4, \"loan_purpose\": \"credit_card\", \"loan_amount\": 12000, \"grade\": \"A\", \"interest_rate\": 5.31, \"public_record_bankrupt\": 0, \"loan_status\": \"Current\", \"has_second_income\": false, \"total_income\": 120000}, {\"state\": \"CT\", \"emp_length\": 10.0, \"term\": 36, \"homeownership\": \"rent\", \"annual_income\": 100000, \"verified_income\": \"Source Verified\", \"debt_to_income\": 0.27809, \"total_credit_limit\": 74805, \"total_credit_utilized\": 27809, \"num_cc_carrying_balance\": 3, \"loan_purpose\": \"credit_card\", \"loan_amount\": 16000, \"grade\": \"A\", \"interest_rate\": 7.35, \"public_record_bankrupt\": 0, \"loan_status\": \"Current\", \"has_second_income\": false, \"total_income\": 100000}, {\"state\": \"NE\", \"emp_length\": 2.0, \"term\": 36, \"homeownership\": \"mortgage\", \"annual_income\": 105000, \"verified_income\": \"Not Verified\", \"debt_to_income\": 0.2681904761904762, \"total_credit_limit\": 279386, \"total_credit_utilized\": 28160, \"num_cc_carrying_balance\": 2, \"loan_purpose\": \"home_improvement\", \"loan_amount\": 16500, \"grade\": \"A\", \"interest_rate\": 5.31, \"public_record_bankrupt\": 0, \"loan_status\": \"Current\", \"has_second_income\": false, \"total_income\": 105000}, {\"state\": \"CA\", \"emp_length\": 5.0, \"term\": 36, \"homeownership\": \"rent\", \"annual_income\": 34000, \"verified_income\": \"Not Verified\", \"debt_to_income\": 0.6292941176470588, \"total_credit_limit\": 33038, \"total_credit_utilized\": 21396, \"num_cc_carrying_balance\": 3, \"loan_purpose\": \"debt_consolidation\", \"loan_amount\": 3000, \"grade\": \"A\", \"interest_rate\": 7.96, \"public_record_bankrupt\": 0, \"loan_status\": \"Current\", \"has_second_income\": false, \"total_income\": 34000}, {\"state\": \"TX\", \"emp_length\": 2.0, \"term\": 60, \"homeownership\": \"mortgage\", \"annual_income\": 98000, \"verified_income\": \"Verified\", \"debt_to_income\": 1.1071020408163266, \"total_credit_limit\": 319551, \"total_credit_utilized\": 108496, \"num_cc_carrying_balance\": 6, \"loan_purpose\": \"credit_card\", \"loan_amount\": 29400, \"grade\": \"E\", \"interest_rate\": 24.85, \"public_record_bankrupt\": 0, \"loan_status\": \"Fully Paid\", \"has_second_income\": false, \"total_income\": 98000}, {\"state\": \"HI\", \"emp_length\": 5.0, \"term\": 60, \"homeownership\": \"rent\", \"annual_income\": 68700, \"verified_income\": \"Source Verified\", \"debt_to_income\": 1.4995487627365356, \"total_credit_limit\": 119325, \"total_credit_utilized\": 103019, \"num_cc_carrying_balance\": 5, \"loan_purpose\": \"debt_consolidation\", \"loan_amount\": 13500, \"grade\": \"D\", \"interest_rate\": 18.06, \"public_record_bankrupt\": 0, \"loan_status\": \"Current\", \"has_second_income\": false, \"total_income\": 68700}, {\"state\": \"CA\", \"emp_length\": 3.0, \"term\": 60, \"homeownership\": \"rent\", \"annual_income\": 43000, \"verified_income\": \"Source Verified\", \"debt_to_income\": 0.1546527777777777, \"total_credit_limit\": 60693, \"total_credit_utilized\": 22270, \"num_cc_carrying_balance\": 4, \"loan_purpose\": \"debt_consolidation\", \"loan_amount\": 18200, \"grade\": \"B\", \"interest_rate\": 10.42, \"public_record_bankrupt\": 0, \"loan_status\": \"Current\", \"has_second_income\": true, \"total_income\": 144000}, {\"state\": \"CA\", \"emp_length\": 3.0, \"term\": 36, \"homeownership\": \"rent\", \"annual_income\": 100000, \"verified_income\": \"Source Verified\", \"debt_to_income\": 0.13823, \"total_credit_limit\": 69100, \"total_credit_utilized\": 13823, \"num_cc_carrying_balance\": 5, \"loan_purpose\": \"other\", \"loan_amount\": 6000, \"grade\": \"A\", \"interest_rate\": 7.96, \"public_record_bankrupt\": 0, \"loan_status\": \"Current\", \"has_second_income\": false, \"total_income\": 100000}, {\"state\": \"FL\", \"emp_length\": 10.0, \"term\": 60, \"homeownership\": \"mortgage\", \"annual_income\": 76000, \"verified_income\": \"Source Verified\", \"debt_to_income\": 0.5898157894736842, \"total_credit_limit\": 249700, \"total_credit_utilized\": 44826, \"num_cc_carrying_balance\": 10, \"loan_purpose\": \"debt_consolidation\", \"loan_amount\": 18000, \"grade\": \"D\", \"interest_rate\": 19.42, \"public_record_bankrupt\": 0, \"loan_status\": \"Current\", \"has_second_income\": false, \"total_income\": 76000}, {\"state\": \"MS\", \"emp_length\": 10.0, \"term\": 36, \"homeownership\": \"mortgage\", \"annual_income\": 80000, \"verified_income\": \"Verified\", \"debt_to_income\": 0.7373059317634845, \"total_credit_limit\": 136046, \"total_credit_utilized\": 124994, \"num_cc_carrying_balance\": 1, \"loan_purpose\": \"car\", \"loan_amount\": 5000, \"grade\": \"C\", \"interest_rate\": 14.08, \"public_record_bankrupt\": 0, \"loan_status\": \"Current\", \"has_second_income\": true, \"total_income\": 169528}, {\"state\": \"WI\", \"emp_length\": 10.0, \"term\": 60, \"homeownership\": \"mortgage\", \"annual_income\": 50000, \"verified_income\": \"Verified\", \"debt_to_income\": 0.5234166666666666, \"total_credit_limit\": 375828, \"total_credit_utilized\": 87934, \"num_cc_carrying_balance\": 11, \"loan_purpose\": \"debt_consolidation\", \"loan_amount\": 40000, \"grade\": \"D\", \"interest_rate\": 20.0, \"public_record_bankrupt\": 0, \"loan_status\": \"Fully Paid\", \"has_second_income\": true, \"total_income\": 168000}, {\"state\": \"WV\", \"emp_length\": 0.0, \"term\": 36, \"homeownership\": \"mortgage\", \"annual_income\": 80000, \"verified_income\": \"Not Verified\", \"debt_to_income\": 0.7045375, \"total_credit_limit\": 197299, \"total_credit_utilized\": 56363, \"num_cc_carrying_balance\": 6, \"loan_purpose\": \"debt_consolidation\", \"loan_amount\": 4500, \"grade\": \"B\", \"interest_rate\": 9.44, \"public_record_bankrupt\": 0, \"loan_status\": \"Fully Paid\", \"has_second_income\": false, \"total_income\": 80000}, {\"state\": \"CA\", \"emp_length\": 1.0, \"term\": 36, \"homeownership\": \"rent\", \"annual_income\": 185000, \"verified_income\": \"Not Verified\", \"debt_to_income\": 0.2546756756756757, \"total_credit_limit\": 102500, \"total_credit_utilized\": 47115, \"num_cc_carrying_balance\": 2, \"loan_purpose\": \"credit_card\", \"loan_amount\": 15000, \"grade\": \"B\", \"interest_rate\": 9.92, \"public_record_bankrupt\": 0, \"loan_status\": \"Current\", \"has_second_income\": false, \"total_income\": 185000}, {\"state\": \"NJ\", \"emp_length\": 5.0, \"term\": 60, \"homeownership\": \"mortgage\", \"annual_income\": 42000, \"verified_income\": \"Source Verified\", \"debt_to_income\": 0.0866666666666666, \"total_credit_limit\": 64800, \"total_credit_utilized\": 3640, \"num_cc_carrying_balance\": 5, \"loan_purpose\": \"house\", \"loan_amount\": 20000, \"grade\": \"B\", \"interest_rate\": 10.91, \"public_record_bankrupt\": 0, \"loan_status\": \"Current\", \"has_second_income\": false, \"total_income\": 42000}, {\"state\": \"MA\", \"emp_length\": 2.0, \"term\": 36, \"homeownership\": \"rent\", \"annual_income\": 100000, \"verified_income\": \"Verified\", \"debt_to_income\": 0.3281962962962963, \"total_credit_limit\": 144700, \"total_credit_utilized\": 88613, \"num_cc_carrying_balance\": 4, \"loan_purpose\": \"small_business\", \"loan_amount\": 20000, \"grade\": \"A\", \"interest_rate\": 5.32, \"public_record_bankrupt\": 0, \"loan_status\": \"Current\", \"has_second_income\": true, \"total_income\": 270000}, {\"state\": \"TX\", \"emp_length\": 5.0, \"term\": 36, \"homeownership\": \"mortgage\", \"annual_income\": 65000, \"verified_income\": \"Not Verified\", \"debt_to_income\": 0.2427384615384615, \"total_credit_limit\": 256974, \"total_credit_utilized\": 15778, \"num_cc_carrying_balance\": 7, \"loan_purpose\": \"debt_consolidation\", \"loan_amount\": 10000, \"grade\": \"A\", \"interest_rate\": 6.71, \"public_record_bankrupt\": 0, \"loan_status\": \"Fully Paid\", \"has_second_income\": false, \"total_income\": 65000}, {\"state\": \"IN\", \"emp_length\": 5.0, \"term\": 36, \"homeownership\": \"own\", \"annual_income\": 45000, \"verified_income\": \"Not Verified\", \"debt_to_income\": 0.1573111111111111, \"total_credit_limit\": 121323, \"total_credit_utilized\": 7079, \"num_cc_carrying_balance\": 4, \"loan_purpose\": \"debt_consolidation\", \"loan_amount\": 9000, \"grade\": \"C\", \"interest_rate\": 15.04, \"public_record_bankrupt\": 0, \"loan_status\": \"Current\", \"has_second_income\": false, \"total_income\": 45000}, {\"state\": \"RI\", \"emp_length\": 10.0, \"term\": 60, \"homeownership\": \"mortgage\", \"annual_income\": 245000, \"verified_income\": \"Verified\", \"debt_to_income\": 0.1673632653061224, \"total_credit_limit\": 495163, \"total_credit_utilized\": 41004, \"num_cc_carrying_balance\": 6, \"loan_purpose\": \"credit_card\", \"loan_amount\": 35000, \"grade\": \"B\", \"interest_rate\": 11.98, \"public_record_bankrupt\": 0, \"loan_status\": \"Current\", \"has_second_income\": false, \"total_income\": 245000}, {\"state\": \"TX\", \"emp_length\": 0.0, \"term\": 36, \"homeownership\": \"mortgage\", \"annual_income\": 50000, \"verified_income\": \"Source Verified\", \"debt_to_income\": 0.6396770833333333, \"total_credit_limit\": 203326, \"total_credit_utilized\": 122818, \"num_cc_carrying_balance\": 4, \"loan_purpose\": \"debt_consolidation\", \"loan_amount\": 40000, \"grade\": \"C\", \"interest_rate\": 12.62, \"public_record_bankrupt\": 0, \"loan_status\": \"Current\", \"has_second_income\": true, \"total_income\": 192000}, {\"state\": \"VA\", \"emp_length\": 0.0, \"term\": 36, \"homeownership\": \"rent\", \"annual_income\": 116000, \"verified_income\": \"Source Verified\", \"debt_to_income\": 0.584396551724138, \"total_credit_limit\": 446850, \"total_credit_utilized\": 67790, \"num_cc_carrying_balance\": 7, \"loan_purpose\": \"debt_consolidation\", \"loan_amount\": 13125, \"grade\": \"B\", \"interest_rate\": 10.91, \"public_record_bankrupt\": 0, \"loan_status\": \"Current\", \"has_second_income\": false, \"total_income\": 116000}, {\"state\": \"NV\", \"emp_length\": 5.0, \"term\": 36, \"homeownership\": \"mortgage\", \"annual_income\": 30000, \"verified_income\": \"Not Verified\", \"debt_to_income\": 0.5120089285714285, \"total_credit_limit\": 190832, \"total_credit_utilized\": 57345, \"num_cc_carrying_balance\": 6, \"loan_purpose\": \"home_improvement\", \"loan_amount\": 32000, \"grade\": \"B\", \"interest_rate\": 9.44, \"public_record_bankrupt\": 0, \"loan_status\": \"Current\", \"has_second_income\": true, \"total_income\": 112000}, {\"state\": \"MA\", \"emp_length\": 4.0, \"term\": 60, \"homeownership\": \"mortgage\", \"annual_income\": 80000, \"verified_income\": \"Not Verified\", \"debt_to_income\": 0.2445412844036697, \"total_credit_limit\": 432092, \"total_credit_utilized\": 53310, \"num_cc_carrying_balance\": 5, \"loan_purpose\": \"debt_consolidation\", \"loan_amount\": 18000, \"grade\": \"B\", \"interest_rate\": 9.93, \"public_record_bankrupt\": 0, \"loan_status\": \"Current\", \"has_second_income\": true, \"total_income\": 218000}, {\"state\": \"CA\", \"emp_length\": 7.0, \"term\": 36, \"homeownership\": \"rent\", \"annual_income\": 103000, \"verified_income\": \"Source Verified\", \"debt_to_income\": 0.2658349514563107, \"total_credit_limit\": 124900, \"total_credit_utilized\": 27381, \"num_cc_carrying_balance\": 5, \"loan_purpose\": \"other\", \"loan_amount\": 30000, \"grade\": \"A\", \"interest_rate\": 7.35, \"public_record_bankrupt\": 0, \"loan_status\": \"Fully Paid\", \"has_second_income\": false, \"total_income\": 103000}, {\"state\": \"IL\", \"emp_length\": 5.0, \"term\": 36, \"homeownership\": \"rent\", \"annual_income\": 58000, \"verified_income\": \"Not Verified\", \"debt_to_income\": 4.777258620689655, \"total_credit_limit\": 236668, \"total_credit_utilized\": 277081, \"num_cc_carrying_balance\": 5, \"loan_purpose\": \"credit_card\", \"loan_amount\": 4400, \"grade\": \"D\", \"interest_rate\": 18.45, \"public_record_bankrupt\": 0, \"loan_status\": \"Current\", \"has_second_income\": false, \"total_income\": 58000}, {\"state\": \"AZ\", \"emp_length\": 0.0, \"term\": 36, \"homeownership\": \"own\", \"annual_income\": 55000, \"verified_income\": \"Source Verified\", \"debt_to_income\": 0.2990909090909091, \"total_credit_limit\": 35900, \"total_credit_utilized\": 16450, \"num_cc_carrying_balance\": 12, \"loan_purpose\": \"debt_consolidation\", \"loan_amount\": 7000, \"grade\": \"D\", \"interest_rate\": 17.09, \"public_record_bankrupt\": 0, \"loan_status\": \"Current\", \"has_second_income\": false, \"total_income\": 55000}, {\"state\": \"MN\", \"emp_length\": null, \"term\": 36, \"homeownership\": \"mortgage\", \"annual_income\": 65000, \"verified_income\": \"Not Verified\", \"debt_to_income\": 0.7522461538461539, \"total_credit_limit\": 174860, \"total_credit_utilized\": 48896, \"num_cc_carrying_balance\": 4, \"loan_purpose\": \"credit_card\", \"loan_amount\": 25000, \"grade\": \"A\", \"interest_rate\": 7.96, \"public_record_bankrupt\": 0, \"loan_status\": \"Current\", \"has_second_income\": false, \"total_income\": 65000}, {\"state\": \"IL\", \"emp_length\": 2.0, \"term\": 36, \"homeownership\": \"rent\", \"annual_income\": 32000, \"verified_income\": \"Source Verified\", \"debt_to_income\": 0.72128125, \"total_credit_limit\": 45594, \"total_credit_utilized\": 23081, \"num_cc_carrying_balance\": 4, \"loan_purpose\": \"renewable_energy\", \"loan_amount\": 6500, \"grade\": \"A\", \"interest_rate\": 6.08, \"public_record_bankrupt\": 1, \"loan_status\": \"Current\", \"has_second_income\": false, \"total_income\": 32000}, {\"state\": \"MD\", \"emp_length\": 5.0, \"term\": 36, \"homeownership\": \"mortgage\", \"annual_income\": 325000, \"verified_income\": \"Source Verified\", \"debt_to_income\": 0.3077507692307692, \"total_credit_limit\": 793009, \"total_credit_utilized\": 100019, \"num_cc_carrying_balance\": 11, \"loan_purpose\": \"credit_card\", \"loan_amount\": 35000, \"grade\": \"A\", \"interest_rate\": 6.71, \"public_record_bankrupt\": 0, \"loan_status\": \"Current\", \"has_second_income\": false, \"total_income\": 325000}, {\"state\": \"MD\", \"emp_length\": 3.0, \"term\": 36, \"homeownership\": \"rent\", \"annual_income\": 70000, \"verified_income\": \"Source Verified\", \"debt_to_income\": 5.333728571428572, \"total_credit_limit\": 272878, \"total_credit_utilized\": 373361, \"num_cc_carrying_balance\": 2, \"loan_purpose\": \"other\", \"loan_amount\": 7500, \"grade\": \"A\", \"interest_rate\": 7.34, \"public_record_bankrupt\": 0, \"loan_status\": \"Current\", \"has_second_income\": false, \"total_income\": 70000}, {\"state\": \"CA\", \"emp_length\": 10.0, \"term\": 60, \"homeownership\": \"mortgage\", \"annual_income\": 160000, \"verified_income\": \"Verified\", \"debt_to_income\": 0.3344, \"total_credit_limit\": 581604, \"total_credit_utilized\": 53504, \"num_cc_carrying_balance\": 3, \"loan_purpose\": \"debt_consolidation\", \"loan_amount\": 38500, \"grade\": \"C\", \"interest_rate\": 12.62, \"public_record_bankrupt\": 1, \"loan_status\": \"Current\", \"has_second_income\": false, \"total_income\": 160000}, {\"state\": \"NJ\", \"emp_length\": 6.0, \"term\": 36, \"homeownership\": \"rent\", \"annual_income\": 50000, \"verified_income\": \"Source Verified\", \"debt_to_income\": 1.25744, \"total_credit_limit\": 90398, \"total_credit_utilized\": 62872, \"num_cc_carrying_balance\": 5, \"loan_purpose\": \"credit_card\", \"loan_amount\": 15000, \"grade\": \"C\", \"interest_rate\": 16.02, \"public_record_bankrupt\": 0, \"loan_status\": \"Current\", \"has_second_income\": false, \"total_income\": 50000}, {\"state\": \"IL\", \"emp_length\": 10.0, \"term\": 60, \"homeownership\": \"rent\", \"annual_income\": 71000, \"verified_income\": \"Not Verified\", \"debt_to_income\": 0.7425211267605634, \"total_credit_limit\": 115970, \"total_credit_utilized\": 52719, \"num_cc_carrying_balance\": 8, \"loan_purpose\": \"car\", \"loan_amount\": 24000, \"grade\": \"B\", \"interest_rate\": 10.9, \"public_record_bankrupt\": 0, \"loan_status\": \"Current\", \"has_second_income\": false, \"total_income\": 71000}, {\"state\": \"MI\", \"emp_length\": 0.0, \"term\": 36, \"homeownership\": \"mortgage\", \"annual_income\": 85000, \"verified_income\": \"Not Verified\", \"debt_to_income\": 0.818764705882353, \"total_credit_limit\": 131847, \"total_credit_utilized\": 69595, \"num_cc_carrying_balance\": 3, \"loan_purpose\": \"debt_consolidation\", \"loan_amount\": 24000, \"grade\": \"B\", \"interest_rate\": 9.93, \"public_record_bankrupt\": 0, \"loan_status\": \"Fully Paid\", \"has_second_income\": false, \"total_income\": 85000}, {\"state\": \"CA\", \"emp_length\": 5.0, \"term\": 36, \"homeownership\": \"mortgage\", \"annual_income\": 87000, \"verified_income\": \"Source Verified\", \"debt_to_income\": 0.0547241379310344, \"total_credit_limit\": 294946, \"total_credit_utilized\": 4761, \"num_cc_carrying_balance\": 3, \"loan_purpose\": \"debt_consolidation\", \"loan_amount\": 12800, \"grade\": \"B\", \"interest_rate\": 9.44, \"public_record_bankrupt\": 0, \"loan_status\": \"Current\", \"has_second_income\": false, \"total_income\": 87000}, {\"state\": \"TX\", \"emp_length\": 10.0, \"term\": 36, \"homeownership\": \"mortgage\", \"annual_income\": 60000, \"verified_income\": \"Not Verified\", \"debt_to_income\": 0.7311833333333333, \"total_credit_limit\": 64017, \"total_credit_utilized\": 43871, \"num_cc_carrying_balance\": 5, \"loan_purpose\": \"home_improvement\", \"loan_amount\": 6000, \"grade\": \"B\", \"interest_rate\": 10.42, \"public_record_bankrupt\": 0, \"loan_status\": \"Current\", \"has_second_income\": false, \"total_income\": 60000}, {\"state\": \"NV\", \"emp_length\": 0.0, \"term\": 36, \"homeownership\": \"mortgage\", \"annual_income\": 58500, \"verified_income\": \"Verified\", \"debt_to_income\": 0.3968205128205128, \"total_credit_limit\": 49234, \"total_credit_utilized\": 23214, \"num_cc_carrying_balance\": 2, \"loan_purpose\": \"debt_consolidation\", \"loan_amount\": 30000, \"grade\": \"D\", \"interest_rate\": 21.45, \"public_record_bankrupt\": 0, \"loan_status\": \"Current\", \"has_second_income\": false, \"total_income\": 58500}, {\"state\": \"NH\", \"emp_length\": 2.0, \"term\": 36, \"homeownership\": \"rent\", \"annual_income\": 50000, \"verified_income\": \"Source Verified\", \"debt_to_income\": 0.50262, \"total_credit_limit\": 39814, \"total_credit_utilized\": 25131, \"num_cc_carrying_balance\": 4, \"loan_purpose\": \"debt_consolidation\", \"loan_amount\": 5825, \"grade\": \"B\", \"interest_rate\": 10.91, \"public_record_bankrupt\": 0, \"loan_status\": \"Current\", \"has_second_income\": false, \"total_income\": 50000}, {\"state\": \"IL\", \"emp_length\": 2.0, \"term\": 36, \"homeownership\": \"own\", \"annual_income\": 103000, \"verified_income\": \"Not Verified\", \"debt_to_income\": 0.9735922330097088, \"total_credit_limit\": 150027, \"total_credit_utilized\": 100280, \"num_cc_carrying_balance\": 4, \"loan_purpose\": \"debt_consolidation\", \"loan_amount\": 20000, \"grade\": \"B\", \"interest_rate\": 9.43, \"public_record_bankrupt\": 0, \"loan_status\": \"Current\", \"has_second_income\": false, \"total_income\": 103000}, {\"state\": \"TX\", \"emp_length\": 9.0, \"term\": 36, \"homeownership\": \"mortgage\", \"annual_income\": 77500, \"verified_income\": \"Verified\", \"debt_to_income\": 0.6778580645161291, \"total_credit_limit\": 390156, \"total_credit_utilized\": 52534, \"num_cc_carrying_balance\": 2, \"loan_purpose\": \"other\", \"loan_amount\": 15000, \"grade\": \"A\", \"interest_rate\": 6.08, \"public_record_bankrupt\": 0, \"loan_status\": \"Current\", \"has_second_income\": false, \"total_income\": 77500}]}}, {\"mode\": \"vega-lite\"});\n",
              "</script>"
            ],
            "text/plain": [
              "alt.Chart(...)"
            ]
          },
          "execution_count": 1,
          "metadata": {},
          "output_type": "execute_result"
        }
      ],
      "source": [
        "#| echo: false\n",
        "\n",
        "import pandas as pd\n",
        "import altair as alt\n",
        "import warnings\n",
        "warnings.simplefilter(action='ignore', category=FutureWarning)\n",
        "\n",
        "ROOT = \"https://raw.githubusercontent.com/kirenz/datasets/master/\"\n",
        "DATA = \"loan50.csv\"\n",
        "\n",
        "df = pd.read_csv(ROOT + DATA)\n",
        "\n",
        "# sorted bar chart\n",
        "plot = alt.Chart(df).mark_bar().encode(\n",
        "    x=alt.X('homeownership', sort='-y'), \n",
        "    y=alt.Y('count(homeownership)')\n",
        ").properties( \n",
        "    title='This is a simple bar chart',\n",
        "    width=550,\n",
        "    height=250\n",
        ")\n",
        "plot"
      ]
    },
    {
      "cell_type": "markdown",
      "id": "81bc5428",
      "metadata": {},
      "source": [
        "::: footer\n",
        "Learn more: [Executable Code](https://quarto.org/docs/presentations/revealjs/#executable-code)\n",
        ":::\n"
      ]
    },
    {
      "cell_type": "markdown",
      "id": "8f300447",
      "metadata": {},
      "source": [
        "\n",
        "## LaTeX Equations\n",
        "\n",
        "[MathJax](https://www.mathjax.org/) rendering of equations to HTML\n",
        "\n",
        "::: columns\n",
        "::: {.column width=\"40%\"}\n",
        "``` tex\n",
        "\\begin{gather*}\n",
        "a_1=b_1+c_1\\\\\n",
        "a_2=b_2+c_2-d_2+e_2\n",
        "\\end{gather*}\n",
        "\n",
        "\\begin{align}\n",
        "a_{11}& =b_{11}&\n",
        "  a_{12}& =b_{12}\\\\\n",
        "a_{21}& =b_{21}&\n",
        "  a_{22}& =b_{22}+c_{22}\n",
        "\\end{align}\n",
        "```\n",
        ":::\n",
        "\n",
        "::: {.column width=\"60%\"}\n",
        "\n",
        "```{=tex}\n",
        "\\begin{gather*}\n",
        "a_1=b_1+c_1\\\\\n",
        "a_2=b_2+c_2-d_2+e_2\n",
        "\\end{gather*}\n",
        "```\n",
        "\n",
        "```{=tex}\n",
        "\\begin{align}\n",
        "a_{11}& =b_{11}&\n",
        "  a_{12}& =b_{12}\\\\\n",
        "a_{21}& =b_{21}&\n",
        "  a_{22}& =b_{22}+c_{22}\n",
        "\\end{align}\n",
        "```\n",
        "\n",
        ":::\n",
        ":::\n",
        "\n",
        "::: footer\n",
        "Learn more: [LaTeX Equations](https://quarto.org/docs/authoring/markdown-basics.html#equations)\n",
        ":::\n"
      ]
    },
    {
      "cell_type": "markdown",
      "id": "5c905959",
      "metadata": {},
      "source": [
        "## Column Layout {.smaller}\n",
        "\n",
        "Arrange content into columns of varying widths:\n",
        "\n",
        "::: columns\n",
        "::: {.column width=\"35%\"}"
      ]
    },
    {
      "cell_type": "markdown",
      "id": "e1f62ce1",
      "metadata": {},
      "source": [
        "#### This is a text\n",
        "\n",
        "Lorem ipsum dolor sit amet, consectetur adipisici elit, sed eiusmod tempor incidunt ut labore et dolore magna aliqua. Ut enim ad minim veniam, quis nostrud exercitation ullamco laboris nisi ut aliquid ex ea commodi consequat. \n",
        "\n",
        ":::\n",
        "\n",
        "::: {.column width=\"3%\"}\n",
        ":::\n",
        "\n",
        "::: {.column width=\"62%\"}"
      ]
    },
    {
      "cell_type": "code",
      "execution_count": 2,
      "id": "c270d607",
      "metadata": {},
      "outputs": [
        {
          "data": {
            "text/html": [
              "<div>\n",
              "<style scoped>\n",
              "    .dataframe tbody tr th:only-of-type {\n",
              "        vertical-align: middle;\n",
              "    }\n",
              "\n",
              "    .dataframe tbody tr th {\n",
              "        vertical-align: top;\n",
              "    }\n",
              "\n",
              "    .dataframe thead th {\n",
              "        text-align: right;\n",
              "    }\n",
              "</style>\n",
              "<table border=\"1\" class=\"dataframe\">\n",
              "  <thead>\n",
              "    <tr style=\"text-align: right;\">\n",
              "      <th></th>\n",
              "      <th>emp_length</th>\n",
              "      <th>homeownership</th>\n",
              "    </tr>\n",
              "  </thead>\n",
              "  <tbody>\n",
              "    <tr>\n",
              "      <th>0</th>\n",
              "      <td>3.0</td>\n",
              "      <td>rent</td>\n",
              "    </tr>\n",
              "    <tr>\n",
              "      <th>2</th>\n",
              "      <td>NaN</td>\n",
              "      <td>mortgage</td>\n",
              "    </tr>\n",
              "  </tbody>\n",
              "</table>\n",
              "</div>"
            ],
            "text/plain": [
              "   emp_length homeownership\n",
              "0         3.0          rent\n",
              "2         NaN      mortgage"
            ]
          },
          "execution_count": 2,
          "metadata": {},
          "output_type": "execute_result"
        }
      ],
      "source": [
        "print(df.iloc[[0, 2], [1, 3]])"
      ]
    },
    {
      "cell_type": "markdown",
      "id": "f4c05796",
      "metadata": {},
      "source": [
        ":::\n",
        ":::\n",
        "\n",
        "::: footer\n",
        "Learn more: [Multiple Columns](https://quarto.org/docs/presentations/revealjs/#multiple-columns)\n",
        ":::"
      ]
    },
    {
      "cell_type": "markdown",
      "id": "2b54522b",
      "metadata": {},
      "source": [
        "\n",
        "## Incremental Lists\n",
        "\n",
        "Lists can optionally be displayed incrementally:\n",
        "\n",
        "::: incremental\n",
        "-   First item\n",
        "-   Second item\n",
        "-   Third item\n",
        ":::\n",
        "\n",
        ". . .\n",
        "\n",
        "<br/> Insert pauses to make other types of content display incrementally.\n",
        "\n",
        "::: footer\n",
        "Learn more: [Incremental Lists](https://quarto.org/docs/presentations/revealjs/#incremental-lists)\n",
        ":::\n"
      ]
    },
    {
      "cell_type": "markdown",
      "id": "22f8b314",
      "metadata": {},
      "source": [
        "\n",
        "## Fragments\n",
        "\n",
        "Incremental text display and animation with fragments:\n",
        "\n",
        "<br/>\n",
        "\n",
        "::: {.fragment .fade-in}\n",
        "Fade in\n",
        ":::\n",
        "\n",
        "::: {.fragment .fade-up}\n",
        "Slide up while fading in\n",
        ":::\n",
        "\n",
        "::: {.fragment .fade-left}\n",
        "Slide left while fading in\n",
        ":::\n",
        "\n",
        "::: {.fragment .fade-in-then-semi-out}\n",
        "Fade in then semi out\n",
        ":::\n",
        "\n",
        ". . .\n",
        "\n",
        "::: {.fragment .strike}\n",
        "Strike\n",
        ":::\n",
        "\n",
        "::: {.fragment .highlight-red}\n",
        "Highlight red\n",
        ":::\n",
        "\n",
        "::: footer\n",
        "Learn more: [Fragments](https://quarto.org/docs/presentations/revealjs/advanced.html#fragments)\n",
        ":::\n",
        "\n"
      ]
    },
    {
      "cell_type": "markdown",
      "id": "b54a7116",
      "metadata": {},
      "source": [
        "\n",
        "## Slide Backgrounds {background=\"#43464B\"}\n",
        "\n",
        "Set the `background` attribute on a slide to change the background color (all CSS color formats are supported).\n",
        "\n",
        "Different background transitions are available via the `background-transition` option.\n",
        "\n",
        "::: footer\n",
        "Learn more: [Slide Backgrounds](https://quarto.org/docs/presentations/revealjs/#color-backgrounds)\n",
        ":::\n",
        "\n"
      ]
    },
    {
      "cell_type": "markdown",
      "id": "7424ddbe",
      "metadata": {},
      "source": [
        "\n",
        "## Media Backgrounds {background=\"#43464B\" background-image=\"images/milky-way.jpeg\"}\n",
        "\n",
        "You can also use the following as a slide background:\n",
        "\n",
        "-   An image: `background-image`\n",
        "\n",
        "-   A video: `background-video`\n",
        "\n",
        "-   An iframe: `background-iframe`\n",
        "\n",
        "::: footer\n",
        "Learn more: [Media Backgrounds](https://quarto.org/docs/presentations/revealjs/#image-backgrounds)\n",
        ":::\n",
        "\n"
      ]
    },
    {
      "cell_type": "markdown",
      "id": "1e0e63fe",
      "metadata": {},
      "source": [
        "\n",
        "## Absolute Position\n",
        "\n",
        "Position images or other elements at precise locations\n",
        "\n",
        "![](mini/images/kitten-400-350.jpeg){.absolute top=\"170\" left=\"30\" width=\"400\" height=\"400\"}\n",
        "\n",
        "![](mini/images/kitten-450-250.jpeg){.absolute .fragment top=\"150\" right=\"80\" width=\"450\"}\n",
        "\n",
        "![](mini/images/kitten-300-200.jpeg){.absolute .fragment bottom=\"110\" right=\"130\" width=\"300\"}\n",
        "\n",
        "::: footer\n",
        "Learn more: [Absolute Position](https://quarto.org/docs/presentations/revealjs/advanced.html#absolute-position)\n",
        ":::\n",
        "\n"
      ]
    },
    {
      "cell_type": "markdown",
      "id": "a5440640",
      "metadata": {},
      "source": [
        "\n",
        "## Auto-Animate {auto-animate=\"true\" auto-animate-easing=\"ease-in-out\"}\n",
        "\n",
        "Automatically animate matching elements across slides with Auto-Animate.\n",
        "\n",
        "::: r-hstack\n",
        "::: {data-id=\"box1\" auto-animate-delay=\"0\" style=\"background: #2780e3; width: 200px; height: 150px; margin: 10px;\"}\n",
        ":::\n",
        "\n",
        "::: {data-id=\"box2\" auto-animate-delay=\"0.1\" style=\"background: #3fb618; width: 200px; height: 150px; margin: 10px;\"}\n",
        ":::\n",
        "\n",
        "::: {data-id=\"box3\" auto-animate-delay=\"0.2\" style=\"background: #e83e8c; width: 200px; height: 150px; margin: 10px;\"}\n",
        ":::\n",
        ":::\n",
        "\n",
        "::: footer\n",
        "Learn more: [Auto-Animate](https://quarto.org/docs/presentations/revealjs/advanced.html#auto-animate)\n",
        ":::\n"
      ]
    },
    {
      "cell_type": "markdown",
      "id": "46695acb",
      "metadata": {},
      "source": [
        "\n",
        "## Auto-Animate {auto-animate=\"true\" auto-animate-easing=\"ease-in-out\"}\n",
        "\n",
        "Automatically animate matching elements across slides with Auto-Animate.\n",
        "\n",
        "::: r-stack\n",
        "::: {data-id=\"box1\" style=\"background: #2780e3; width: 350px; height: 350px; border-radius: 200px;\"}\n",
        ":::\n",
        "\n",
        "::: {data-id=\"box2\" style=\"background: #3fb618; width: 250px; height: 250px; border-radius: 200px;\"}\n",
        ":::\n",
        "\n",
        "::: {data-id=\"box3\" style=\"background: #e83e8c; width: 150px; height: 150px; border-radius: 200px;\"}\n",
        ":::\n",
        ":::\n",
        "\n",
        "::: footer\n",
        "Learn more: [Auto-Animate](https://quarto.org/docs/presentations/revealjs/advanced.html#auto-animate)\n",
        ":::\n",
        "\n"
      ]
    },
    {
      "cell_type": "markdown",
      "id": "260a6721",
      "metadata": {},
      "source": [
        "\n",
        "## Slide Transitions {.smaller}\n",
        "\n",
        "The next few slides will transition using the `slide` transition\n",
        "\n",
        "| Transition | Description                                                            |\n",
        "|------------|------------------------------------------------------------------------|\n",
        "| `none`     | No transition (default, switch instantly)                              |\n",
        "| `fade`     | Cross fade                                                             |\n",
        "| `slide`    | Slide horizontally                                                     |\n",
        "| `convex`   | Slide at a convex angle                                                |\n",
        "| `concave`  | Slide at a concave angle                                               |\n",
        "| `zoom`     | Scale the incoming slide so it grows in from the center of the screen. |\n",
        "\n",
        "::: footer\n",
        "Learn more: [Slide Transitions](https://quarto.org/docs/presentations/revealjs/advanced.html#slide-transitions)\n",
        ":::\n",
        "\n"
      ]
    },
    {
      "cell_type": "markdown",
      "id": "c700af72",
      "metadata": {},
      "source": [
        "\n",
        "## Tabsets {.smaller .scrollable transition=\"slide\"}\n",
        "\n",
        "::: panel-tabset\n"
      ]
    },
    {
      "cell_type": "markdown",
      "id": "c573b037",
      "metadata": {},
      "source": [
        "## Plot"
      ]
    },
    {
      "cell_type": "code",
      "execution_count": null,
      "id": "2a94fc9f",
      "metadata": {},
      "outputs": [],
      "source": [
        "import pandas as pd\n",
        "import altair as alt\n",
        "import warnings\n",
        "warnings.simplefilter(action='ignore', category=FutureWarning)\n",
        "\n",
        "ROOT = \"https://raw.githubusercontent.com/kirenz/datasets/master/\"\n",
        "DATA = \"loans50.csv\"\n",
        "\n",
        "df = pd.read_csv(ROOT + DATA)\n",
        "\n",
        "# sorted bar chart\n",
        "plot1 = alt.Chart(df).mark_bar().encode(\n",
        "    x=alt.X('homeownership', sort='-y'), \n",
        "    y=alt.Y('count(homeownership)')\n",
        ").properties( \n",
        "    title='This is a simple bar chart',\n",
        "    width=300,\n",
        "    height=150\n",
        ")\n",
        "plot1"
      ]
    },
    {
      "cell_type": "markdown",
      "id": "cfc685cb",
      "metadata": {},
      "source": [
        "## Data"
      ]
    },
    {
      "cell_type": "code",
      "execution_count": null,
      "id": "70a82197",
      "metadata": {},
      "outputs": [],
      "source": [
        "print(df.head())"
      ]
    },
    {
      "cell_type": "markdown",
      "id": "4855b89a",
      "metadata": {},
      "source": [
        ":::"
      ]
    },
    {
      "cell_type": "markdown",
      "id": "4fa597dc",
      "metadata": {},
      "source": [
        "\n",
        "::: footer\n",
        "Learn more: [Tabsets](https://quarto.org/docs/presentations/revealjs/#tabsets)\n",
        ":::\n"
      ]
    },
    {
      "cell_type": "markdown",
      "id": "d68b68a2",
      "metadata": {},
      "source": [
        "## Interactive Slides {.smaller transition=\"slide\"}\n",
        "\n",
        "Include Jupyter widgets and htmlwidgets in your presentations\n"
      ]
    },
    {
      "cell_type": "code",
      "execution_count": 1,
      "id": "58fb42d0",
      "metadata": {},
      "outputs": [
        {
          "data": {
            "application/vnd.jupyter.widget-view+json": {
              "model_id": "383bb5d673004e779f8b61a281484453",
              "version_major": 2,
              "version_minor": 0
            },
            "text/plain": [
              "Map(center=[52.204793, 360.121558], controls=(ZoomControl(options=['position', 'zoom_in_text', 'zoom_in_title'…"
            ]
          },
          "execution_count": 1,
          "metadata": {},
          "output_type": "execute_result"
        }
      ],
      "source": [
        "\n",
        "from ipyleaflet import Map, Marker, basemaps, basemap_to_tiles\n",
        "m = Map(\n",
        "  basemap=basemap_to_tiles(\n",
        "    basemaps.NASAGIBS.ModisTerraTrueColorCR, \"2017-04-08\"\n",
        "  ),\n",
        "  center=(52.204793, 360.121558),\n",
        "  zoom=4\n",
        ")\n",
        "m.add_layer(Marker(location=(52.204793, 360.121558)))\n",
        "m"
      ]
    },
    {
      "cell_type": "markdown",
      "id": "f7505512",
      "metadata": {},
      "source": [
        "\n",
        "::: footer\n",
        "Learn more: [Jupyter widgets](https://quarto.org/docs/interactive/widgets/jupyter.html), [htmlwidgets](https://quarto.org/docs/interactive/widgets/htmlwidgets.html)\n",
        ":::\n",
        "\n"
      ]
    },
    {
      "cell_type": "markdown",
      "id": "3e4fd5a2",
      "metadata": {},
      "source": [
        "\n",
        "## Preview Links\n",
        "\n",
        "Navigate to hyperlinks without disrupting the flow of your presentation.\n",
        "\n",
        "Use the `preview-links` option to open links in an iframe on top of your slides. Try clicking the link below for a demonstration:\n",
        "\n",
        "::: {style=\"text-align: center; margin-top: 1em\"}\n",
        "[Matplotlib: Visualization with Python](https://matplotlib.org/){preview-link=\"true\" style=\"text-align: center\"}\n",
        ":::\n",
        "\n",
        "::: footer\n",
        "Learn more: [Preview Links](https://quarto.org/docs/presentations/revealjs/presenting.html#preview-links)\n",
        ":::\n"
      ]
    },
    {
      "cell_type": "markdown",
      "id": "357968c9",
      "metadata": {},
      "source": [
        "\n",
        "## Themes\n",
        "\n",
        "10 Built-in Themes (or [create your own](https://quarto.org/docs/presentations/revealjs/themes.html#creating-themes))\n",
        "\n",
        "::: {layout-ncol=\"2\"}\n",
        "![](images/moon.png)\n",
        "\n",
        "![](images/sky.png)\n",
        ":::\n",
        "\n",
        "::: footer\n",
        "Learn more: [Themes](https://quarto.org/docs/presentations/revealjs/themes.html)\n",
        ":::\n"
      ]
    },
    {
      "cell_type": "markdown",
      "id": "7054f7c5",
      "metadata": {},
      "source": [
        "\n",
        "## Easy Navigation\n",
        "\n",
        "::: {style=\"margin-bottom: 0.9em;\"}\n",
        "Quickly jump to other parts of your presentation\n",
        ":::\n",
        "\n",
        "::: {layout=\"[1, 20]\"}\n",
        "![](images/presentation-menu.png){width=\"41\"}\n",
        "\n",
        "Toggle the slide menu with the menu button (bottom left of slide) to go to other slides and access presentation tools.\n",
        ":::\n",
        "\n",
        "You can also press `m` to toggle the menu open and closed.\n",
        "\n",
        "::: footer\n",
        "Learn more: [Navigation](https://quarto.org/docs/presentations/revealjs/presenting.html#navigation-menu)\n",
        ":::\n"
      ]
    },
    {
      "cell_type": "markdown",
      "id": "d00d4587",
      "metadata": {},
      "source": [
        "\n",
        "## Chalkboard {chalkboard-buttons=\"true\"}\n",
        "\n",
        "::: {style=\"margin-bottom: 0.9em;\"}\n",
        "Free form drawing and slide annotations\n",
        ":::\n",
        "\n",
        "::: {layout=\"[1, 20]\"}\n",
        "![](images/presentation-chalkboard.png){width=\"41\"}\n",
        "\n",
        "Use the chalkboard button at the bottom left of the slide to toggle the chalkboard.\n",
        ":::\n",
        "\n",
        "::: {layout=\"[1, 20]\"}\n",
        "![](images/presentation-notes-canvas.png){width=\"41\"}\n",
        "\n",
        "Use the notes canvas button at the bottom left of the slide to toggle drawing on top of the current slide.\n",
        ":::\n",
        "\n",
        "You can also press `b` to toggle the chalkboard or `c` to toggle the notes canvas.\n",
        "\n",
        "::: footer\n",
        "Learn more: [Chalkboard](https://quarto.org/docs/presentations/revealjs/presenting.html#chalkboard)\n",
        ":::\n"
      ]
    },
    {
      "cell_type": "markdown",
      "id": "082f460b",
      "metadata": {},
      "source": [
        "\n",
        "## Point of View\n",
        "\n",
        "Press `o` to toggle overview mode:\n",
        "\n",
        "![](images/overview-mode.png){.border}\n",
        "\n",
        "Hold down the `Alt` key (or `Ctrl` in Linux) and click on any element to zoom towards it---try it now on this slide.\n",
        "\n",
        "::: footer\n",
        "Learn more: [Overview Mode](https://quarto.org/docs/presentations/revealjs/presenting.html#overview-mode), [Slide Zoom](https://quarto.org/docs/presentations/revealjs/presenting.html#slide-zoom)\n",
        ":::\n"
      ]
    },
    {
      "cell_type": "markdown",
      "id": "32677480",
      "metadata": {},
      "source": [
        "\n",
        "## Speaker View\n",
        "\n",
        "Press `s` (or use the presentation menu) to open speaker view\n",
        "\n",
        "![](images/speaker-view.png){fig-align=\"center\" style=\"border: 3px solid #dee2e6;\" width=\"780\"}\n",
        "\n",
        "::: footer\n",
        "Learn more: [Speaker View](https://quarto.org/docs/presentations/revealjs/presenting.html#speaker-view)\n",
        ":::\n"
      ]
    },
    {
      "cell_type": "markdown",
      "id": "28a4a302",
      "metadata": {},
      "source": [
        "\n",
        "## Authoring Tools {.smaller}\n",
        "\n",
        "Live side-by-side preview for any notebook or text editor including Jupyter and VS Code\n",
        "\n",
        "::: columns\n",
        "::: {.column width=\"50%\"}\n",
        "![](images/jupyter-edit.png){.border .border-thick}\n",
        ":::\n",
        "\n",
        "::: {.column width=\"50%\"}\n",
        "![](images/jupyter-preview.png){.border .border-thick}\n",
        ":::\n",
        ":::\n",
        "\n",
        "::: footer\n",
        "Learn more: [Jupyter](https://quarto.org/docs/tools/jupyter-lab.html), [VS Code](https://quarto.org/docs/tools/vscode.html), [Text Editors](https://quarto.org/docs/tools/text-editors.html)\n",
        ":::\n"
      ]
    },
    {
      "cell_type": "markdown",
      "id": "b4c3aaf6",
      "metadata": {},
      "source": [
        "\n",
        "## Authoring Tools {.smaller}\n",
        "\n",
        "RStudio includes an integrated presentation preview pane\n",
        "\n",
        "![](images/rstudio.png){.border width=\"900\"}\n",
        "\n",
        "::: footer\n",
        "Learn more: [RStudio](https://quarto.org/docs/tools/rstudio.html)\n",
        ":::\n"
      ]
    },
    {
      "cell_type": "markdown",
      "id": "71355991",
      "metadata": {},
      "source": [
        "\n",
        "## And More...\n",
        "\n",
        "-   [Touch](https://quarto.org/docs/presentations/revealjs/advanced.html#touch-navigation) optimized (presentations look great on mobile, swipe to navigate slides)\n",
        "-   [Footer & Logo](https://quarto.org/docs/presentations/revealjs/#footer-logo) (optionally specify custom footer per-slide)\n",
        "-   [Auto-Slide](https://quarto.org/docs/presentations/revealjs/presenting.html#auto-slide) (step through slides automatically, without any user input)\n",
        "-   [Multiplex](https://quarto.org/docs/presentations/revealjs/presenting.html#multiplex) (allows your audience to follow the slides of the presentation you are controlling on their own phone, tablet or laptop).\n",
        "\n",
        "::: footer\n",
        "Learn more: [Quarto Presentations](https://quarto.org/docs/presentations/revealjs/)\n",
        ":::"
      ]
    }
  ],
  "metadata": {
    "kernelspec": {
      "display_name": "Python 3.9.13 ('dst')",
      "language": "python",
      "name": "python3"
    },
    "language_info": {
      "codemirror_mode": {
        "name": "ipython",
        "version": 3
      },
      "file_extension": ".py",
      "mimetype": "text/x-python",
      "name": "python",
      "nbconvert_exporter": "python",
      "pygments_lexer": "ipython3",
      "version": "3.9.13"
    },
    "vscode": {
      "interpreter": {
        "hash": "57137d00906dcfc610b0009cd9be1d97c3b9b0b8cb7228e2ff7c7001d05affbc"
      }
    }
  },
  "nbformat": 4,
  "nbformat_minor": 5
}
